{
 "cells": [
  {
   "cell_type": "markdown",
   "metadata": {},
   "source": [
    "# Insertion Sort"
   ]
  },
  {
   "cell_type": "code",
   "execution_count": 1,
   "metadata": {
    "collapsed": true
   },
   "outputs": [],
   "source": [
    "def insertionSort(Arr):\n",
    "    for i in list(range(1, len(Arr))):\n",
    "        key = Arr[i]\n",
    "        j = i - 1\n",
    "        while j >= 0 and key < Arr[j]:\n",
    "            Arr[j+1] = key\n",
    "            j = j - 1\n",
    "        Arr[j+1] = key"
   ]
  },
  {
   "cell_type": "markdown",
   "metadata": {},
   "source": [
    "# Quick Sort\n",
    "\n",
    "* require a `partition` function to cut the array into 2 parts (smaller than pivot and larger than pivot)"
   ]
  },
  {
   "cell_type": "code",
   "execution_count": 3,
   "metadata": {
    "collapsed": true
   },
   "outputs": [],
   "source": [
    "def quickSort(Arr, lowInd, highInd):\n",
    "    if lowInd < highInd:\n",
    "        pivotInd = partition(Arr, lowInd, highInd)\n",
    "        quickSort(Arr, lowInd, pivotInd - 1)\n",
    "        quickSort(Arr, pivotInd + 1, highInd)\n",
    "    \n",
    "    return Arr"
   ]
  },
  {
   "cell_type": "code",
   "execution_count": 6,
   "metadata": {
    "collapsed": true
   },
   "outputs": [],
   "source": [
    "def partition(Arr, lowInd, highInd):\n",
    "    pivot = Arr[highInd]\n",
    "    i = lowInd - 1\n",
    "    for j in list(range(lowInd, highInd)):\n",
    "        if Arr[j] <= pivot:\n",
    "            i += 1\n",
    "            Arr[i], Arr[j] = Arr[j], Arr[i]\n",
    "    \n",
    "    Arr[i+1], Arr[highInd] = Arr[highInd], Arr[i+1]\n",
    "    return (i+1)"
   ]
  },
  {
   "cell_type": "code",
   "execution_count": 7,
   "metadata": {
    "collapsed": false
   },
   "outputs": [
    {
     "data": {
      "text/plain": [
       "[10, 20, 30, 60, 60, 70, 80]"
      ]
     },
     "execution_count": 7,
     "metadata": {},
     "output_type": "execute_result"
    }
   ],
   "source": [
    "quickSort([80, 70, 60, 60, 20, 10, 30], 0, 6)"
   ]
  },
  {
   "cell_type": "markdown",
   "metadata": {},
   "source": [
    "# Merge Sort\n",
    "\n",
    "* need a `merge` function"
   ]
  },
  {
   "cell_type": "code",
   "execution_count": 32,
   "metadata": {
    "collapsed": true
   },
   "outputs": [],
   "source": [
    "def mergeSort(arr, leftInd, rightInd):                    # example for indexes: leftInd = 0, rightInd = 6, 7 elements in total\n",
    "    if leftInd < rightInd:\n",
    "        midInd = (leftInd + rightInd - 1) // 2            # midInd = 2\n",
    "        mergeSort(arr, leftInd, midInd)                   # subarray is now arr[0:3]  (0, 1, 2)\n",
    "        mergeSort(arr, midInd + 1, rightInd)              #                 arr[3:6]  (3, 4, 5, 6)\n",
    "        merge(arr, leftInd, midInd, rightInd)             # \n",
    "        \n",
    "    return arr"
   ]
  },
  {
   "cell_type": "code",
   "execution_count": 30,
   "metadata": {
    "collapsed": true
   },
   "outputs": [],
   "source": [
    "def merge(arr, leftInd, midInd, rightInd):        # use example: leftInd = 0, midInd = 2, rightInd = 6\n",
    "    n1 = midInd - leftInd + 1                     # length of the left part, in this case n1 = 3\n",
    "    n2 = rightInd - midInd                        # length of the right part, in this case n2 = 4\n",
    "    \n",
    "    # create temp arrays, they don't share the same length\n",
    "    leftArr = [0] * n1\n",
    "    rightArr = [0] * n2\n",
    "    for i in range(len(leftArr)):\n",
    "        leftArr[i] = arr[leftInd + i]            # \n",
    "    for j in range(len(rightArr)):               # j is from 0 to 3\n",
    "        rightArr[j] = arr[midInd + 1 + j]        # midInd + 1 + j is from 3 to 6?\n",
    "    \n",
    "    i = 0            # initial index for leftArr\n",
    "    j = 0            # initial index for rightArr\n",
    "    k = leftInd      # initial index for original arr, be careful with this part\n",
    "    \n",
    "    # compare the 2 arrays\n",
    "    while i < n1 and j < n2:\n",
    "        if leftArr[i] <= rightArr[j]:\n",
    "            arr[k] = leftArr[i]\n",
    "            i += 1\n",
    "        else: \n",
    "            arr[k] = rightArr[j]\n",
    "            j += 1\n",
    "        k += 1\n",
    "        \n",
    "    # copy the rest of the array\n",
    "    while i < n1:\n",
    "        arr[k] = leftArr[i]\n",
    "        i += 1\n",
    "        k += 1\n",
    "        \n",
    "    while j < n2:\n",
    "        arr[k] = rightArr[j]\n",
    "        j += 1\n",
    "        k += 1"
   ]
  },
  {
   "cell_type": "code",
   "execution_count": 34,
   "metadata": {
    "collapsed": false
   },
   "outputs": [
    {
     "data": {
      "text/plain": [
       "[10, 20, 30, 60, 60, 70, 80]"
      ]
     },
     "execution_count": 34,
     "metadata": {},
     "output_type": "execute_result"
    }
   ],
   "source": [
    "mergeSort([80, 70, 60, 20, 60, 10, 30], 0, 6)"
   ]
  },
  {
   "cell_type": "markdown",
   "metadata": {},
   "source": [
    "# Heap Sort\n",
    "\n",
    "* need to first implement `binary heap`. Can use a function instead of a class\n",
    "\n",
    "## Max Heap Sort\n",
    "\n",
    "* maximum is at the root"
   ]
  },
  {
   "cell_type": "code",
   "execution_count": 24,
   "metadata": {
    "collapsed": true
   },
   "outputs": [],
   "source": [
    "def maxHeapSort(arr):                                   # don't quite understand the code, so read the heapify function first\n",
    "    length = len(arr)\n",
    "    \n",
    "    # build a heap\n",
    "    for i in list(range(length-1, -1, -1)):         # build a max heap. Will find out that only half of the nodes will involve\n",
    "        maxHeapify(arr, length, i)\n",
    "    \n",
    "    # one by one extract\n",
    "    for i in list(range(length - 1, 0, -1)):       # ignore arr[0], \n",
    "        arr[i], arr[0] = arr[0], arr[i]          # extract arr[0], and make arr[i] at top\n",
    "        maxHeapify(arr, i, 0)                       # max heapify the smaller array[0: length - 1] from the top, because \n",
    "                                                 # you mess up the top\n",
    "                                                 # so the largest will be at the end of the array\n",
    "    # if you want the max first, if you want the min, just print the array\n",
    "    heapifyArr = []\n",
    "    for i in range(length):\n",
    "        heapifyArr.append(arr.pop())\n",
    "    return heapifyArr"
   ]
  },
  {
   "cell_type": "code",
   "execution_count": 25,
   "metadata": {
    "collapsed": true
   },
   "outputs": [],
   "source": [
    "def maxHeapify(arr, size, ind):\n",
    "    largest = ind\n",
    "    left = ind * 2 + 1             # left child position\n",
    "    right = ind * 2 + 2            # right child position\n",
    "    \n",
    "    if left < size and arr[ind] < arr[left]:\n",
    "        largest = left\n",
    "    \n",
    "    if right < size and arr[largest] < arr[right]:  # compare left child/root to right child\n",
    "        largest = right\n",
    "        \n",
    "    if largest != ind:             # root isn't largest\n",
    "        arr[ind], arr[largest] = arr[largest], arr[ind]\n",
    "        maxHeapify(arr, size, largest)           # heapify the subtree because you mess up the child"
   ]
  },
  {
   "cell_type": "code",
   "execution_count": 26,
   "metadata": {
    "collapsed": false
   },
   "outputs": [
    {
     "data": {
      "text/plain": [
       "[90, 80, 30, 20, 5, 4, 0]"
      ]
     },
     "execution_count": 26,
     "metadata": {},
     "output_type": "execute_result"
    }
   ],
   "source": [
    "maxHeapSort([20, 30, 0, 5, 4, 80, 90])"
   ]
  },
  {
   "cell_type": "markdown",
   "metadata": {},
   "source": [
    "## Min Heap Sort\n",
    "\n",
    "* put the min at the end"
   ]
  },
  {
   "cell_type": "code",
   "execution_count": 46,
   "metadata": {
    "collapsed": true
   },
   "outputs": [],
   "source": [
    "def minHeapSort(arr):\n",
    "    length = len(arr)\n",
    "    \n",
    "    # build a min heap\n",
    "    for i in range(length):\n",
    "        minHeapify(arr, length, i)                 # this part is good\n",
    "    #print(arr)\n",
    "        \n",
    "    for i in list(range(length -1, 0, -1)):\n",
    "        #print(i)\n",
    "        arr[0], arr[i] = arr[i], arr[0]\n",
    "        minHeapify(arr, i, 0)               # because you mess up with the root arr[0], be careful with the *new* size of the array\n",
    "        #print(arr)\n",
    "        \n",
    "    return list(reversed(arr))"
   ]
  },
  {
   "cell_type": "code",
   "execution_count": 47,
   "metadata": {
    "collapsed": true
   },
   "outputs": [],
   "source": [
    "def minHeapify(arr, size, ind):\n",
    "    smallest = ind\n",
    "    left = ind * 2 + 1\n",
    "    right = ind * 2 + 2\n",
    "    \n",
    "    if left < size and arr[ind] > arr[left]:\n",
    "        smallest = left\n",
    "        \n",
    "    if right < size and arr[smallest] > arr[right]:\n",
    "        smallest = right\n",
    "        \n",
    "    if smallest != ind:\n",
    "        arr[smallest], arr[ind] = arr[ind], arr[smallest]\n",
    "        minHeapify(arr, size, smallest)"
   ]
  },
  {
   "cell_type": "code",
   "execution_count": 48,
   "metadata": {
    "collapsed": false
   },
   "outputs": [
    {
     "data": {
      "text/plain": [
       "[0, 4, 5, 20, 30, 80, 90]"
      ]
     },
     "execution_count": 48,
     "metadata": {},
     "output_type": "execute_result"
    }
   ],
   "source": [
    "minHeapSort([20, 30, 0, 5, 4, 80, 90])"
   ]
  },
  {
   "cell_type": "code",
   "execution_count": 8,
   "metadata": {
    "collapsed": false
   },
   "outputs": [
    {
     "data": {
      "text/plain": [
       "[6, 5, 4, 3, 2, 1, 0]"
      ]
     },
     "execution_count": 8,
     "metadata": {},
     "output_type": "execute_result"
    }
   ],
   "source": [
    "list(range(6, -1 ,-1))"
   ]
  },
  {
   "cell_type": "markdown",
   "metadata": {},
   "source": [
    "# Counting Sort\n",
    "\n",
    "* only work when the range of the numbers is known, not large, and all numbers are **integers**"
   ]
  },
  {
   "cell_type": "code",
   "execution_count": 56,
   "metadata": {
    "collapsed": false
   },
   "outputs": [],
   "source": [
    "def countingSort(arr, low, high):          \n",
    "    sortingArr = [0] * (high - low + 1)\n",
    "    newArr = []\n",
    "    for i in range(len(arr)):\n",
    "        sortingArr[arr[i] - low] += 1\n",
    "            \n",
    "    for k in range(len(sortingArr)):\n",
    "        for j in range(sortingArr[k]):\n",
    "            newArr.append(k + low)\n",
    "            \n",
    "    return newArr"
   ]
  },
  {
   "cell_type": "code",
   "execution_count": 58,
   "metadata": {
    "collapsed": false
   },
   "outputs": [
    {
     "data": {
      "text/plain": [
       "[-1, -1, 0, 2, 2, 4]"
      ]
     },
     "execution_count": 58,
     "metadata": {},
     "output_type": "execute_result"
    }
   ],
   "source": [
    "countingSort([-1, 2, 0, 4, 2, -1], -1, 5)"
   ]
  }
 ],
 "metadata": {
  "kernelspec": {
   "display_name": "Python 3",
   "language": "python",
   "name": "python3"
  },
  "language_info": {
   "codemirror_mode": {
    "name": "ipython",
    "version": 3
   },
   "file_extension": ".py",
   "mimetype": "text/x-python",
   "name": "python",
   "nbconvert_exporter": "python",
   "pygments_lexer": "ipython3",
   "version": "3.6.0"
  }
 },
 "nbformat": 4,
 "nbformat_minor": 2
}
